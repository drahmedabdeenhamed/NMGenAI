{
 "cells": [
  {
   "cell_type": "code",
   "execution_count": 1,
   "id": "ef4fe1f4-8db4-4e3e-a452-1d9e772df5aa",
   "metadata": {},
   "outputs": [],
   "source": [
    "import os\n",
    "import openai\n",
    "import tiktoken\n",
    "import itertools\n",
    "\n",
    "import xml.etree.ElementTree as ET\n",
    "import networkx as nx\n",
    "import matplotlib.pyplot as plt\n",
    "\n",
    "\n",
    "import json\n",
    "import networkx as nx"
   ]
  },
  {
   "cell_type": "code",
   "execution_count": 2,
   "id": "597c96bf-3846-45ce-9399-78cf94d7ec2e",
   "metadata": {},
   "outputs": [],
   "source": [
    "# Path to the roles list\n",
    "path_to_id = [\"protocolSection\",\"identificationModule\",\"nctId\"]\n",
    "path_to_interventions = [\"protocolSection\", \"armsInterventionsModule\", \"interventions\"]\n",
    "path_to_description = [\"protocolSection\",\"descriptionModule\",\"briefSummary\"]"
   ]
  },
  {
   "cell_type": "code",
   "execution_count": 3,
   "id": "c18de398-efe6-4a89-ac7c-b65fd2b5a1fe",
   "metadata": {},
   "outputs": [],
   "source": [
    "# Function to retrieve a value from a JSON structure based on a given path\n",
    "def get_value_from_path(data, path):\n",
    "    \"\"\"\n",
    "    Retrieve the value from a JSON structure based on a given path.\n",
    "\n",
    "    :param data: The JSON data (could be a dictionary, list, or basic data type).\n",
    "    :param path: A list of keys/indices that define the path to the desired value.\n",
    "    :return: The value at the specified path, or None if the path doesn't exist.\n",
    "    \"\"\"\n",
    "    current = data\n",
    "\n",
    "    try:\n",
    "        for key in path:\n",
    "            if isinstance(current, dict):\n",
    "                current = current[key]\n",
    "            elif isinstance(current, list) and isinstance(key, int):\n",
    "                current = current[key]\n",
    "            else:\n",
    "                return None  # Path leads to an unexpected type\n",
    "        return current\n",
    "    except (KeyError, IndexError):\n",
    "        return None  # If the key/index does not exist"
   ]
  },
  {
   "cell_type": "code",
   "execution_count": 4,
   "id": "abd2c9de-2222-47bf-82c3-8d4464cbb09a",
   "metadata": {},
   "outputs": [],
   "source": [
    "import os\n",
    "import json\n",
    "\n",
    "# Define the directory containing the JSON files\n",
    "# directory_path = \"../CancerDrugCombo/datasets/drug-comb-nct/\"\n",
    "directory_path = \"../datasets/drug-comb-nct/\"\n",
    "\n",
    "count = 0\n",
    "\n",
    "nct_drug_combos = {}\n",
    "\n",
    "# Iterate over each file in the directory\n",
    "for filename in os.listdir(directory_path):\n",
    "    # Check if the file is a JSON file\n",
    "    if filename.endswith(\".json\"):\n",
    "        file_path = os.path.join(directory_path, filename)  # Get the full path to the file\n",
    "        \n",
    "        # Open and read the JSON file\n",
    "        with open(file_path, 'r') as json_file:\n",
    "            # Parse the JSON content\n",
    "            data = json.load(json_file)\n",
    "            \n",
    "            # Get the roles list\n",
    "            desc = get_value_from_path(data, path_to_description)\n",
    "            nctid = get_value_from_path(data, path_to_id)\n",
    "            \n",
    "            # print(nctid, desc)\n",
    "            \n",
    "            nct_drug_combos[nctid] = desc"
   ]
  },
  {
   "cell_type": "code",
   "execution_count": 5,
   "id": "bc0afa9f-2c1f-4ed2-a38c-f27d9e94a665",
   "metadata": {},
   "outputs": [
    {
     "data": {
      "text/plain": [
       "2496"
      ]
     },
     "execution_count": 5,
     "metadata": {},
     "output_type": "execute_result"
    }
   ],
   "source": [
    "len(nct_drug_combos)"
   ]
  },
  {
   "cell_type": "code",
   "execution_count": 6,
   "id": "4939458d-e615-46ff-8d86-c28e05973aaa",
   "metadata": {},
   "outputs": [
    {
     "data": {
      "text/plain": [
       "'The purpose of this study is to see if adding a regimen of individualized psychotherapy can help bipolar I patients who are on lithium.\\n\\nWhile having a manic or depressed episode patients will be assigned randomly (like tossing a coin) to receive appropriate medication either with or without additional individual psychotherapy. If a patient responds well, he/she will again be assigned randomly to receive further preventative treatment in which medication will be managed either with continued medication clinic visits alone or with additional individual psychotherapy (the patient may not receive the same additional treatment this time). Patient response to treatment will be evaluated throughout the study. If manic/depressive symptoms return at any point during the study, the patient will be treated with appropriate medication and will continue the study.\\n\\nAn individual may be eligible for this study if he/she:\\n\\nHas Bipolar I disorder, is experiencing a manic or depressed episode at the time of study entry, and is at least 18 years old.'"
      ]
     },
     "execution_count": 6,
     "metadata": {},
     "output_type": "execute_result"
    }
   ],
   "source": [
    "list(nct_drug_combos.values())[10]"
   ]
  },
  {
   "cell_type": "code",
   "execution_count": 7,
   "id": "ef5a7b4e-31b7-44e9-80b5-e360dc675b7c",
   "metadata": {},
   "outputs": [],
   "source": [
    "handle = open('../resources/drug.names.txt')\n",
    "drug_lines = handle.readlines()"
   ]
  },
  {
   "cell_type": "code",
   "execution_count": 8,
   "id": "dd2110d5-9631-413f-a372-9b91d48d327d",
   "metadata": {},
   "outputs": [],
   "source": [
    "# extract drug mentions from clinical trials\n",
    "# produce a dictionary of trial ids and their mentions as a list\n",
    "nct_id_drugs = {}\n",
    "for nct_id, desc in nct_drug_combos.items():\n",
    "    found_drugs = []\n",
    "    for drug in drug_lines:\n",
    "        if \" \" not in drug.strip():\n",
    "            if drug.strip().lower() in desc and drug.strip().lower() not in found_drugs:\n",
    "                found_drugs.append(drug.strip().lower())\n",
    "    if len(found_drugs) > 1:\n",
    "        nct_id_drugs[nct_id] = found_drugs"
   ]
  },
  {
   "cell_type": "code",
   "execution_count": 9,
   "id": "343c901c-c63b-4984-9833-19eefa7e5fe5",
   "metadata": {},
   "outputs": [],
   "source": [
    "# construct combos from dictionary and form a graph\n",
    "\n",
    "drug_combination_graph = nx.Graph()\n",
    "\n",
    "\n",
    "for nct_id, found_drugs in nct_id_drugs.items():\n",
    "    # Generate all possible pairs of combinations\n",
    "    pairs = list(itertools.combinations(found_drugs, 2))\n",
    "\n",
    "    # Print the pairs\n",
    "    for pair in pairs:\n",
    "        drug_combination_graph.add_edge(pair[0], pair[1], label=nct_id)"
   ]
  },
  {
   "cell_type": "code",
   "execution_count": 10,
   "id": "34fa02b6-09bf-42d0-903f-58343f01d8ad",
   "metadata": {},
   "outputs": [
    {
     "name": "stdout",
     "output_type": "stream",
     "text": [
      "Graph with 301 nodes and 1407 edges\n"
     ]
    }
   ],
   "source": [
    "print(drug_combination_graph)"
   ]
  },
  {
   "cell_type": "code",
   "execution_count": 11,
   "id": "d237a62c-b3ab-47ac-a5c2-4364e261f0cd",
   "metadata": {},
   "outputs": [],
   "source": [
    "# for edge in drug_combination_graph.edges(data=True):\n",
    "#     print(edge)"
   ]
  },
  {
   "cell_type": "code",
   "execution_count": 12,
   "id": "3e3b6840-68b1-45b5-97b4-080e46f9047a",
   "metadata": {},
   "outputs": [
    {
     "name": "stdout",
     "output_type": "stream",
     "text": [
      "Graph has been written to ../outputs/nct-combo-graph-06152024.pickle\n"
     ]
    }
   ],
   "source": [
    "# Specify the filename for the pickle file\n",
    "filename = '../outputs/nct-combo-graph-06152024.pickle'\n",
    "\n",
    "# Write the graph to a pickle file\n",
    "nx.write_gpickle(drug_combination_graph, filename)\n",
    "\n",
    "print(f\"Graph has been written to {filename}\")"
   ]
  },
  {
   "cell_type": "code",
   "execution_count": 13,
   "id": "2594f255-c00b-476a-a2d8-f5fc77d9ac0f",
   "metadata": {},
   "outputs": [
    {
     "name": "stdout",
     "output_type": "stream",
     "text": [
      "Graph with 301 nodes and 1407 edges\n"
     ]
    }
   ],
   "source": [
    "import pickle\n",
    "\n",
    "# Step 2: Open the pickle file in read-binary mode\n",
    "with open(\"../outputs/nct-combo-graph.pickle\", \"rb\") as file:\n",
    "    # Step 3: Load the graph from the pickle file\n",
    "    drug_combination_graph = pickle.load(file)\n",
    "\n",
    "# Now the graph is loaded into memory and you can use it\n",
    "print(drug_combination_graph)\n"
   ]
  },
  {
   "cell_type": "code",
   "execution_count": 14,
   "id": "a3038c6a-ea20-4519-8b60-93726e490478",
   "metadata": {},
   "outputs": [],
   "source": [
    "list_nodes = drug_combination_graph.nodes()"
   ]
  },
  {
   "cell_type": "code",
   "execution_count": 15,
   "id": "6bc3dce5-c6a4-4eae-ad1c-89292c221b3d",
   "metadata": {},
   "outputs": [
    {
     "data": {
      "text/plain": [
       "301"
      ]
     },
     "execution_count": 15,
     "metadata": {},
     "output_type": "execute_result"
    }
   ],
   "source": [
    "len(list_nodes)"
   ]
  },
  {
   "cell_type": "code",
   "execution_count": 17,
   "id": "2ba5aa6c-b46d-41cb-87a2-d36a2cea7add",
   "metadata": {},
   "outputs": [],
   "source": [
    "file_path = \"../resources/nct-combo-members-06152024.txt\"\n",
    "with open(file_path, \"w\") as file:\n",
    "    for drug in list_nodes:\n",
    "        file.write(drug + \"\\n\")    \n",
    "    "
   ]
  },
  {
   "cell_type": "code",
   "execution_count": null,
   "id": "05167e65-68df-4f9e-aee9-57e9d8f55ec1",
   "metadata": {},
   "outputs": [],
   "source": []
  },
  {
   "cell_type": "code",
   "execution_count": null,
   "id": "367eb4d3-2521-4ce5-b092-76ba38606492",
   "metadata": {},
   "outputs": [],
   "source": []
  }
 ],
 "metadata": {
  "kernelspec": {
   "display_name": "Python 3 (ipykernel)",
   "language": "python",
   "name": "python3"
  },
  "language_info": {
   "codemirror_mode": {
    "name": "ipython",
    "version": 3
   },
   "file_extension": ".py",
   "mimetype": "text/x-python",
   "name": "python",
   "nbconvert_exporter": "python",
   "pygments_lexer": "ipython3",
   "version": "3.9.12"
  }
 },
 "nbformat": 4,
 "nbformat_minor": 5
}
