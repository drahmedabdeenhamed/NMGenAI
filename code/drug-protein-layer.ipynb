{
 "cells": [
  {
   "cell_type": "code",
   "execution_count": 10,
   "id": "d29baca5-b3a3-49fc-8dab-b4de343409da",
   "metadata": {},
   "outputs": [],
   "source": [
    "import json\n",
    "import nltk\n",
    "import pickle\n",
    "import networkx as nx\n",
    "\n",
    "import pmdlib as pm \n",
    "# import parse_gaf_annotation\n",
    "\n",
    "from networkx.readwrite import json_graph\n",
    "# from nltk.tokenize import sent_tokenize\n",
    "from nltk.tokenize import word_tokenize, sent_tokenize"
   ]
  },
  {
   "cell_type": "code",
   "execution_count": null,
   "id": "dbb75ae4",
   "metadata": {},
   "outputs": [],
   "source": []
  },
  {
   "cell_type": "code",
   "execution_count": 11,
   "id": "92d38b90-d847-446c-b6c6-2e0a168670e4",
   "metadata": {},
   "outputs": [],
   "source": [
    "# parsing pubmed articles from the database file\n",
    "pmid_abstracts_dict = pm.parse_medline_rmap(medline_file=\"../datasets/myMEDLINE-file-cancer-04252024.text\")"
   ]
  },
  {
   "cell_type": "code",
   "execution_count": 12,
   "id": "4225c3be-813a-46ba-98fc-7a37c4ee3680",
   "metadata": {},
   "outputs": [
    {
     "name": "stdout",
     "output_type": "stream",
     "text": [
      "PMID:  439 ABST:  The authors, with 67 Gallium, have obtained positive scintigraphy of the breast only in cases of carcinoma. Reliability of negative scintigraphy however is less good. Isotopic investigation of the bones is important in breast cancer and reveal early osseous metastasis.\n",
      "-----------------------------\n",
      "PMID:  2274 ABST:  Serum prolactin concentrations were measured by radioimmunoassays in 98 patients with established carcinoma of breast, 12 patients with cystic mastitis and 10 patients with gynaecomastia and compared with that of age matched normal control women. The serum prolactin levels in the patients with breast cancer, gynaecomastia or cystic mastitis were observed to be similar to that in normal women. It was interesting to note that the levels of prolactin in the luteal phase of the cycle were higher than that in the early follicular phase in normal women.\n",
      "-----------------------------\n"
     ]
    }
   ],
   "source": [
    "# testing the extraction\n",
    "counter = 0\n",
    "for pmid, abst in pmid_abstracts_dict.items():\n",
    "    print(\"PMID: \", pmid, \"ABST: \", abst)\n",
    "    print(\"-----------------------------\")\n",
    "    counter += 1\n",
    "    if counter > 1:\n",
    "        break\n",
    "    "
   ]
  },
  {
   "cell_type": "code",
   "execution_count": 13,
   "id": "7bb9a0e3-3145-45b3-8067-97a5e8afe74a",
   "metadata": {},
   "outputs": [
    {
     "data": {
      "text/plain": [
       "['esr1', 'er', 'esr', 'esra', 'estrr']"
      ]
     },
     "execution_count": 13,
     "metadata": {},
     "output_type": "execute_result"
    }
   ],
   "source": [
    "def load_pathway_proteins(prot_file):\n",
    "    prot_list = []\n",
    "    handle = open(prot_file)\n",
    "    for line in handle.readlines():\n",
    "        prot_list.append(line.strip().lower())\n",
    "    return prot_list\n",
    "        \n",
    "# test the function with the protein file    \n",
    "full_pwprot_list = load_pathway_proteins(\"../resources/kegg-unique-cancer-proteins.txt\")\n",
    "full_pwprot_list[:5]"
   ]
  },
  {
   "cell_type": "code",
   "execution_count": 14,
   "id": "cbe857ff-26c8-460f-b280-b852730dd70f",
   "metadata": {},
   "outputs": [
    {
     "data": {
      "text/plain": [
       "['rosiglitazone', 'pioglitazone', 'alli', 'inh', 'dv']"
      ]
     },
     "execution_count": 14,
     "metadata": {},
     "output_type": "execute_result"
    }
   ],
   "source": [
    "def load_nct_drug_members(drug_file):\n",
    "    nct_drug_list = []\n",
    "    handle = open(drug_file)\n",
    "    for line in handle.readlines():\n",
    "        nct_drug_list.append(line.strip().lower())\n",
    "    return nct_drug_list\n",
    "        \n",
    "# test the function with the protein file    \n",
    "nct_drug_list = load_nct_drug_members(\"../resources/nct-combo-members.txt\")\n",
    "nct_drug_list[:5]\n",
    "    "
   ]
  },
  {
   "cell_type": "code",
   "execution_count": 15,
   "id": "c5bbb9a9-56ca-443e-9894-64ce67dae8f9",
   "metadata": {},
   "outputs": [],
   "source": [
    "# Step 3: Create a function to compute the distance between two words\n",
    "def word_distance(word_list, word1, word2):\n",
    "    try:\n",
    "        index1 = word_list.index(word1)\n",
    "        index2 = word_list.index(word2)\n",
    "        return abs(index1 - index2)\n",
    "    except ValueError as e:\n",
    "        return str(e)"
   ]
  },
  {
   "cell_type": "code",
   "execution_count": 16,
   "id": "1e0256b1-6cad-4f80-a42d-cdd084dcb4ee",
   "metadata": {},
   "outputs": [],
   "source": [
    "def find_drug_pwprot(drug_list, pwprot_list, pubs_dict):\n",
    "    count = 0\n",
    "    drug_pwprot_dict = {}\n",
    "    for pmid, abst in pubs_dict.items():\n",
    "        medline_record = []\n",
    "        words = word_tokenize(abst.lower())\n",
    "        # for word in words:\n",
    "        for drug in drug_list:\n",
    "            for pwprot in pwprot_list:\n",
    "                if drug in words and pwprot in words:\n",
    "                    proximity = word_distance(words, drug, pwprot)  \n",
    "                    medline_record.append((drug, pwprot, proximity))                        \n",
    "                    \n",
    "                    count += 1\n",
    "                    if count % 1000 == 0:\n",
    "                        print(\"Current count: \", count)\n",
    "                        print(\"PMID: \", pmid, \", Drug: ->\", drug, \" -> \", \", Pwprot: -> \",  pwprot, \", Proximity:  -> \", proximity)\n",
    "                        # break\n",
    "        if len(medline_record) > 0:              \n",
    "            drug_pwprot_dict[pmid] = medline_record\n",
    "    return drug_pwprot_dict"
   ]
  },
  {
   "cell_type": "code",
   "execution_count": 17,
   "id": "57fcfe27-a91d-44fa-819b-5a2f6daf3e47",
   "metadata": {},
   "outputs": [
    {
     "name": "stdout",
     "output_type": "stream",
     "text": [
      "Current count:  1000\n",
      "PMID:  2903322 , Drug: -> progesterone  ->  , Pwprot: ->  pgr , Proximity:  ->  2\n",
      "Current count:  2000\n",
      "PMID:  7499360 , Drug: -> progesterone  ->  , Pwprot: ->  p53 , Proximity:  ->  14\n",
      "Current count:  3000\n",
      "PMID:  8706561 , Drug: -> testosterone  ->  , Pwprot: ->  er , Proximity:  ->  14\n",
      "Current count:  4000\n",
      "PMID:  9816160 , Drug: -> progesterone  ->  , Pwprot: ->  pgr , Proximity:  ->  97\n",
      "Current count:  5000\n",
      "PMID:  11062733 , Drug: -> danazol  ->  , Pwprot: ->  pr , Proximity:  ->  17\n",
      "Current count:  6000\n",
      "PMID:  12046611 , Drug: -> progesterone  ->  , Pwprot: ->  er , Proximity:  ->  9\n",
      "Current count:  7000\n",
      "PMID:  14529565 , Drug: -> progesterone  ->  , Pwprot: ->  p53 , Proximity:  ->  19\n",
      "Current count:  8000\n",
      "PMID:  15601642 , Drug: -> progesterone  ->  , Pwprot: ->  er , Proximity:  ->  55\n",
      "Current count:  9000\n",
      "PMID:  16334152 , Drug: -> progesterone  ->  , Pwprot: ->  er , Proximity:  ->  3\n",
      "Current count:  10000\n",
      "PMID:  17169390 , Drug: -> exemestane  ->  , Pwprot: ->  er , Proximity:  ->  227\n",
      "Current count:  11000\n",
      "PMID:  18064460 , Drug: -> paclitaxel  ->  , Pwprot: ->  egfr , Proximity:  ->  173\n",
      "Current count:  12000\n",
      "PMID:  18783338 , Drug: -> etoposide  ->  , Pwprot: ->  bax , Proximity:  ->  70\n",
      "Current count:  13000\n",
      "PMID:  19564533 , Drug: -> methotrexate  ->  , Pwprot: ->  brca2 , Proximity:  ->  142\n",
      "Current count:  14000\n",
      "PMID:  20209131 , Drug: -> cyclophosphamide  ->  , Pwprot: ->  her2 , Proximity:  ->  14\n",
      "Current count:  15000\n",
      "PMID:  21042724 , Drug: -> methotrexate  ->  , Pwprot: ->  p53 , Proximity:  ->  44\n",
      "Current count:  16000\n",
      "PMID:  21613412 , Drug: -> anastrozole  ->  , Pwprot: ->  er , Proximity:  ->  122\n",
      "Current count:  17000\n",
      "PMID:  22254170 , Drug: -> progesterone  ->  , Pwprot: ->  fad , Proximity:  ->  86\n",
      "Current count:  18000\n",
      "PMID:  22837644 , Drug: -> progesterone  ->  , Pwprot: ->  igf , Proximity:  ->  198\n",
      "Current count:  19000\n",
      "PMID:  23341518 , Drug: -> cyclophosphamide  ->  , Pwprot: ->  er , Proximity:  ->  91\n",
      "Current count:  20000\n",
      "PMID:  23965901 , Drug: -> progesterone  ->  , Pwprot: ->  er , Proximity:  ->  4\n",
      "Current count:  21000\n",
      "PMID:  24507701 , Drug: -> progesterone  ->  , Pwprot: ->  p53 , Proximity:  ->  248\n",
      "Current count:  22000\n",
      "PMID:  25136527 , Drug: -> progesterone  ->  , Pwprot: ->  pr , Proximity:  ->  3\n",
      "Current count:  23000\n",
      "PMID:  25731381 , Drug: -> progesterone  ->  , Pwprot: ->  pgr , Proximity:  ->  3\n",
      "Current count:  24000\n",
      "PMID:  26304457 , Drug: -> progesterone  ->  , Pwprot: ->  er , Proximity:  ->  3\n",
      "Current count:  25000\n",
      "PMID:  26951122 , Drug: -> paclitaxel  ->  , Pwprot: ->  her2 , Proximity:  ->  248\n",
      "Current count:  26000\n",
      "PMID:  27632388 , Drug: -> progesterone  ->  , Pwprot: ->  er , Proximity:  ->  3\n",
      "Current count:  27000\n",
      "PMID:  28280092 , Drug: -> fulvestrant  ->  , Pwprot: ->  er , Proximity:  ->  9\n",
      "Current count:  28000\n",
      "PMID:  28923573 , Drug: -> paclitaxel  ->  , Pwprot: ->  er , Proximity:  ->  57\n",
      "Current count:  29000\n",
      "PMID:  29587221 , Drug: -> progesterone  ->  , Pwprot: ->  pgr , Proximity:  ->  3\n",
      "Current count:  30000\n",
      "PMID:  30343454 , Drug: -> progesterone  ->  , Pwprot: ->  her2 , Proximity:  ->  14\n",
      "Current count:  31000\n",
      "PMID:  31012486 , Drug: -> progesterone  ->  , Pwprot: ->  her2 , Proximity:  ->  13\n",
      "Current count:  32000\n",
      "PMID:  31741086 , Drug: -> anastrozole  ->  , Pwprot: ->  esr , Proximity:  ->  31\n",
      "Current count:  33000\n",
      "PMID:  32462261 , Drug: -> cyclophosphamide  ->  , Pwprot: ->  er , Proximity:  ->  87\n",
      "Current count:  34000\n",
      "PMID:  33190190 , Drug: -> fulvestrant  ->  , Pwprot: ->  esr1 , Proximity:  ->  261\n",
      "Current count:  35000\n",
      "PMID:  33885357 , Drug: -> progesterone  ->  , Pwprot: ->  er , Proximity:  ->  3\n",
      "Current count:  36000\n",
      "PMID:  34666529 , Drug: -> progesterone  ->  , Pwprot: ->  her2 , Proximity:  ->  12\n",
      "Current count:  37000\n",
      "PMID:  35478111 , Drug: -> progesterone  ->  , Pwprot: ->  er , Proximity:  ->  3\n",
      "Current count:  38000\n",
      "PMID:  36299795 , Drug: -> progesterone  ->  , Pwprot: ->  pr , Proximity:  ->  3\n",
      "Current count:  39000\n",
      "PMID:  37120672 , Drug: -> progesterone  ->  , Pwprot: ->  her2 , Proximity:  ->  176\n",
      "Current count:  40000\n",
      "PMID:  37886482 , Drug: -> estradiol  ->  , Pwprot: ->  er , Proximity:  ->  215\n",
      "Current count:  41000\n",
      "PMID:  38651302 , Drug: -> progesterone  ->  , Pwprot: ->  her2 , Proximity:  ->  6\n"
     ]
    }
   ],
   "source": [
    "drug_prot_info_dict = find_drug_pwprot(nct_drug_list, full_pwprot_list, pmid_abstracts_dict)"
   ]
  },
  {
   "cell_type": "code",
   "execution_count": 18,
   "id": "bb0c7f27-9c26-4160-bb0f-11e243ea8f3a",
   "metadata": {},
   "outputs": [
    {
     "data": {
      "text/plain": [
       "18293"
      ]
     },
     "execution_count": 18,
     "metadata": {},
     "output_type": "execute_result"
    }
   ],
   "source": [
    "len(drug_prot_info_dict)"
   ]
  },
  {
   "cell_type": "code",
   "execution_count": 21,
   "id": "12837175-0e89-47ef-b79f-fbb20a49d505",
   "metadata": {},
   "outputs": [
    {
     "name": "stdout",
     "output_type": "stream",
     "text": [
      "key:  92478 , val:  [('progesterone', 'pr', 3)]\n",
      "key:  221750 , val:  [('progesterone', 'er', 48), ('progesterone', 'pr', 3)]\n",
      "key:  303543 , val:  [('cyclophosphamide', 'pr', 79), ('methotrexate', 'pr', 69)]\n",
      "key:  326386 , val:  [('progesterone', 'er', 118), ('progesterone', 'pgr', 52)]\n",
      "key:  345042 , val:  [('progesterone', 'er', 70), ('progesterone', 'era', 74)]\n",
      "key:  363253 , val:  [('cyclophosphamide', 'pr', 67), ('methotrexate', 'pr', 62), ('prednisone', 'pr', 46)]\n",
      "key:  385079 , val:  [('progesterone', 'er', 110), ('progesterone', 'pgr', 3)]\n",
      "key:  394576 , val:  [('cyclophosphamide', 'pr', 89), ('methotrexate', 'pr', 82)]\n",
      "key:  455226 , val:  [('estradiol', 'er', 20)]\n",
      "key:  467095 , val:  [('progesterone', 'er', 105), ('progesterone', 'pgr', 107)]\n",
      "key:  494363 , val:  [('estradiol', 'er', 27)]\n"
     ]
    }
   ],
   "source": [
    "counter = 0\n",
    "\n",
    "for key, val in drug_prot_info_dict.items():\n",
    "    print(\"key: \", key, \", val: \", val)\n",
    "    counter += 1\n",
    "    if counter > 10:\n",
    "        break"
   ]
  },
  {
   "cell_type": "code",
   "execution_count": 19,
   "id": "d6a1aab4-a084-4ad3-8e29-e2fc4ee28a22",
   "metadata": {},
   "outputs": [
    {
     "name": "stdout",
     "output_type": "stream",
     "text": [
      "Dictionary has been saved to ../outputs/nct-drug-cancer-pathways-06062024.json\n"
     ]
    }
   ],
   "source": [
    "# File path where you want to save the JSON file\n",
    "file_path = '../outputs/nct-drug-cancer-pathways-06062024.json'\n",
    "\n",
    "\n",
    "# Write the dictionary to a JSON file\n",
    "with open(file_path, 'w') as json_file:\n",
    "    json.dump(drug_prot_info_dict, json_file, indent=4)  # indent=4 is used for pretty-printing\n",
    "\n",
    "print(f\"Dictionary has been saved to {file_path}\")"
   ]
  },
  {
   "cell_type": "code",
   "execution_count": null,
   "id": "de1620fa-e85c-4859-8ee3-afcb59e22790",
   "metadata": {},
   "outputs": [],
   "source": [
    "# # File path where you want to save the JSON file\n",
    "# file_path = '../outputs/nct-drug-pwprot-06012024.json'\n",
    "\n",
    "\n",
    "# # Write the dictionary to a JSON file\n",
    "# with open(file_path, 'w') as json_file:\n",
    "#     json.dump(drug_prot_info_dict, json_file, indent=4)  # indent=4 is used for pretty-printing\n",
    "\n",
    "# print(f\"Dictionary has been saved to {file_path}\")"
   ]
  },
  {
   "cell_type": "code",
   "execution_count": null,
   "id": "7d0e8fb9-8a7c-46cf-984e-2ef94fc7b4bd",
   "metadata": {},
   "outputs": [],
   "source": []
  },
  {
   "cell_type": "code",
   "execution_count": null,
   "id": "4402d8db-d6cb-4ec3-8a62-26c8c8a7e221",
   "metadata": {},
   "outputs": [],
   "source": []
  },
  {
   "cell_type": "code",
   "execution_count": 66,
   "id": "055acf5c-eb3f-4fe3-9788-fd40ea04ef19",
   "metadata": {},
   "outputs": [],
   "source": [
    "# explorer = 0\n",
    "# for key, value in drug_prot_info_dict.items():\n",
    "#     if len(value) > 0:\n",
    "        # print(\"Key: \", key, \" Value: \", value)\n",
    "    # explorer +=1\n",
    "    # if explorer < 100:\n",
    "    #     break"
   ]
  },
  {
   "cell_type": "code",
   "execution_count": 58,
   "id": "4b70aa9f-a7b3-42e4-815a-74f97f17c7bf",
   "metadata": {},
   "outputs": [],
   "source": [
    "# pip install tqdm"
   ]
  },
  {
   "cell_type": "code",
   "execution_count": 44,
   "id": "a3372b7b-f47a-4305-aec5-33eb93429872",
   "metadata": {},
   "outputs": [
    {
     "name": "stderr",
     "output_type": "stream",
     "text": [
      "100%|██████████| 10/10 [00:05<00:00,  1.98it/s]\n"
     ]
    }
   ],
   "source": [
    "from tqdm import tqdm\n",
    "import time\n",
    "\n",
    "# Example task: a loop that sleeps for a short time\n",
    "for i in tqdm(range(10)):\n",
    "    time.sleep(0.5)  # Simulate a task taking some time"
   ]
  },
  {
   "cell_type": "code",
   "execution_count": null,
   "id": "0e413af9-a470-4e02-9650-4f9bdf176e3c",
   "metadata": {},
   "outputs": [],
   "source": []
  },
  {
   "cell_type": "code",
   "execution_count": null,
   "id": "a818f62e-6890-47fc-b16c-573c20d7f129",
   "metadata": {},
   "outputs": [],
   "source": []
  },
  {
   "cell_type": "code",
   "execution_count": null,
   "id": "663295eb-c1e6-4f07-9a22-258ea1501e06",
   "metadata": {},
   "outputs": [],
   "source": []
  },
  {
   "cell_type": "code",
   "execution_count": null,
   "id": "37b65c60-17ec-4d45-88f9-8e0f7ad08f4a",
   "metadata": {},
   "outputs": [],
   "source": []
  },
  {
   "cell_type": "code",
   "execution_count": 102,
   "id": "8dc33acf-3130-4df4-b6c3-2f23ab83374d",
   "metadata": {},
   "outputs": [],
   "source": [
    "import pickle\n",
    "import networkx as nx\n",
    "\n",
    "# Load graph layers from pickle files\n",
    "combos_pickle_path = \"../datasets/fda-validated-combos.pickle\"\n",
    "\n",
    "# Load the combo and data target graph layers\n",
    "with open(combos_pickle_path, \"rb\") as file:\n",
    "    combosGraphLayer = pickle.load(file)"
   ]
  },
  {
   "cell_type": "code",
   "execution_count": 107,
   "id": "a69eb351-09f5-44b1-8988-75ab0d62eba1",
   "metadata": {},
   "outputs": [],
   "source": [
    "# Load the combo and data target graph layers\n",
    "drug_file = \"../datasets/nct_drugs.txt\"\n",
    "\n",
    "nct_drugs = []\n",
    "handle = open(drug_file)\n",
    "for drug in handle.readlines():\n",
    "    nct_drugs.append(drug.strip().lower())\n",
    "    \n",
    "   "
   ]
  },
  {
   "cell_type": "code",
   "execution_count": 109,
   "id": "1a39310a-fc71-40eb-94cb-919624ad41cd",
   "metadata": {},
   "outputs": [],
   "source": [
    "# for drug in nct_drugs:\n",
    "#     print(drug)"
   ]
  },
  {
   "cell_type": "code",
   "execution_count": 86,
   "id": "fac8abfe-56e1-4ed4-843b-c79052c8fa1e",
   "metadata": {},
   "outputs": [],
   "source": [
    "def calc_dist_and_chunk(text, word1, word2):\n",
    "    # Find the indices of the first occurrence of each word in the text\n",
    "    index1 = text.find(word1)\n",
    "    index2 = text.find(word2)  \n",
    "    \n",
    "    # If either word is not found, return -1 indicating an error\n",
    "    if index1 == -1 or index2 == -1:\n",
    "        distance = -1\n",
    "    else:\n",
    "    \n",
    "        # Calculate the distance between the words\n",
    "        distance = abs(index1 - index2) \n",
    "    \n",
    "    return distance\n"
   ]
  },
  {
   "cell_type": "code",
   "execution_count": 116,
   "id": "e848103c-5baa-410e-8797-14b86635a9a4",
   "metadata": {},
   "outputs": [
    {
     "name": "stdout",
     "output_type": "stream",
     "text": [
      "Current number of hits:  0\n",
      "Current number of hits:  303\n",
      "Current number of hits:  505\n",
      "Current number of hits:  808\n",
      "Current number of hits:  909\n",
      "Current number of hits:  1010\n",
      "Current number of hits:  1212\n",
      "Current number of hits:  1313\n",
      "Current number of hits:  1414\n",
      "Current number of hits:  1616\n",
      "Current number of hits:  1818\n",
      "Current number of hits:  1919\n",
      "Current number of hits:  2020\n",
      "Current number of hits:  2222\n",
      "Current number of hits:  2424\n",
      "Current number of hits:  2525\n",
      "Current number of hits:  2626\n",
      "Current number of hits:  2727\n",
      "Current number of hits:  2929\n",
      "Current number of hits:  3232\n",
      "Current number of hits:  3333\n",
      "Current number of hits:  3535\n",
      "Current number of hits:  3737\n",
      "Current number of hits:  4141\n",
      "Current number of hits:  4444\n",
      "Current number of hits:  4545\n",
      "Current number of hits:  4646\n",
      "Current number of hits:  4747\n",
      "Current number of hits:  4848\n",
      "Current number of hits:  4949\n",
      "Current number of hits:  5151\n",
      "Current number of hits:  5252\n",
      "Current number of hits:  5353\n",
      "Current number of hits:  5454\n",
      "Current number of hits:  5555\n",
      "Publications processed :  100000\n",
      "Current number of hits:  5959\n",
      "Current number of hits:  6060\n",
      "Current number of hits:  6262\n",
      "Current number of hits:  6363\n",
      "Current number of hits:  6464\n",
      "Current number of hits:  6565\n",
      "Current number of hits:  6666\n",
      "Current number of hits:  6868\n",
      "Current number of hits:  6969\n",
      "Current number of hits:  7070\n",
      "Current number of hits:  7171\n",
      "Current number of hits:  7272\n",
      "Current number of hits:  7474\n",
      "Current number of hits:  7575\n",
      "Current number of hits:  7676\n",
      "Current number of hits:  7777\n",
      "Current number of hits:  7878\n",
      "Current number of hits:  7979\n",
      "Current number of hits:  8080\n",
      "Current number of hits:  8181\n",
      "Current number of hits:  8282\n",
      "Current number of hits:  8383\n",
      "Current number of hits:  8484\n",
      "Current number of hits:  8888\n",
      "Current number of hits:  8989\n",
      "Current number of hits:  9090\n",
      "Current number of hits:  9191\n",
      "Current number of hits:  9292\n",
      "Current number of hits:  9393\n",
      "Current number of hits:  9494\n",
      "Current number of hits:  9696\n",
      "Current number of hits:  9797\n",
      "Current number of hits:  10201\n",
      "Current number of hits:  10403\n",
      "Current number of hits:  10504\n",
      "Current number of hits:  10706\n",
      "Current number of hits:  10908\n",
      "Current number of hits:  11211\n",
      "Publications processed :  200000\n",
      "Current number of hits:  11413\n",
      "Current number of hits:  11716\n",
      "Current number of hits:  11817\n",
      "Current number of hits:  11918\n",
      "Current number of hits:  12120\n",
      "Current number of hits:  12221\n",
      "Current number of hits:  12322\n",
      "Current number of hits:  12423\n",
      "Current number of hits:  12524\n",
      "Current number of hits:  12625\n",
      "Current number of hits:  12928\n",
      "Current number of hits:  13029\n",
      "Current number of hits:  13231\n",
      "Current number of hits:  13433\n",
      "Current number of hits:  13534\n",
      "Current number of hits:  13635\n",
      "Current number of hits:  13736\n",
      "Current number of hits:  13837\n",
      "Current number of hits:  13938\n",
      "Current number of hits:  14039\n",
      "Current number of hits:  14140\n",
      "Current number of hits:  14342\n",
      "Current number of hits:  14544\n",
      "Current number of hits:  14645\n",
      "Current number of hits:  14746\n",
      "Current number of hits:  14847\n",
      "Current number of hits:  14948\n",
      "Current number of hits:  15049\n",
      "Current number of hits:  15150\n",
      "Publications processed :  300000\n",
      "Current number of hits:  15352\n",
      "Current number of hits:  15453\n",
      "Current number of hits:  15554\n",
      "Current number of hits:  15655\n",
      "Current number of hits:  15756\n",
      "Current number of hits:  15857\n",
      "Current number of hits:  15958\n",
      "Current number of hits:  16059\n",
      "Current number of hits:  16261\n",
      "Current number of hits:  16362\n",
      "Current number of hits:  16463\n",
      "Current number of hits:  16665\n",
      "Current number of hits:  16766\n",
      "Current number of hits:  16867\n",
      "Current number of hits:  16968\n",
      "Current number of hits:  17069\n",
      "Current number of hits:  17170\n",
      "Current number of hits:  17271\n",
      "Current number of hits:  17372\n",
      "Current number of hits:  17473\n",
      "Current number of hits:  17776\n",
      "Current number of hits:  17877\n",
      "Publications processed :  400000\n",
      "Current number of hits:  17978\n",
      "Current number of hits:  18281\n",
      "Current number of hits:  18382\n",
      "Current number of hits:  18786\n"
     ]
    }
   ],
   "source": [
    "count = 0\n",
    "hits_count = 0\n",
    "current_count = 0\n",
    "list_of_hits = []\n",
    "for pmid, abst in pmid_abstracts_dict.items():\n",
    "    current_count += 1\n",
    "    for drug in nct_drugs:\n",
    "        for prot in full_prot_list:\n",
    "            if prot in abst and drug in abst:\n",
    "                proximity, chunk = calc_dist_and_chunk(abst, drug, prot)\n",
    "                if proximity > 0:\n",
    "                    hits_count += 1\n",
    "                    list_of_hits.append((drug, prot, proximity, pmid, abst))\n",
    "\n",
    "    if hits_count % 101 == 0:\n",
    "        print(\"Current number of hits: \", hits_count)\n",
    "        hits_count += 1\n",
    "    \n",
    "    if current_count % 100000 == 0 :\n",
    "        print(\"Publications processed : \", current_count)        \n"
   ]
  },
  {
   "cell_type": "code",
   "execution_count": 145,
   "id": "a173b5ef-b6bf-4dfc-b636-d96d53ffa17d",
   "metadata": {},
   "outputs": [],
   "source": [
    "import json\n",
    "\n",
    "# Define the file path\n",
    "file_path = \"../datasets/drug-protein-prox-hits.json\"\n",
    "\n",
    "# Write the data to a JSON file\n",
    "with open(file_path, \"w\") as json_file:\n",
    "    json.dump(list_of_hits, json_file)\n",
    "\n",
    "\n",
    "\n",
    "\n",
    "\n"
   ]
  },
  {
   "cell_type": "code",
   "execution_count": null,
   "id": "9310628f-d600-407f-a76d-bcbf87a5d992",
   "metadata": {},
   "outputs": [],
   "source": []
  }
 ],
 "metadata": {
  "kernelspec": {
   "display_name": "Python 3 (ipykernel)",
   "language": "python",
   "name": "python3"
  },
  "language_info": {
   "codemirror_mode": {
    "name": "ipython",
    "version": 3
   },
   "file_extension": ".py",
   "mimetype": "text/x-python",
   "name": "python",
   "nbconvert_exporter": "python",
   "pygments_lexer": "ipython3",
   "version": "3.9.12"
  }
 },
 "nbformat": 4,
 "nbformat_minor": 5
}
