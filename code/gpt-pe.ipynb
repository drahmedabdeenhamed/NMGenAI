{
 "cells": [
  {
   "cell_type": "code",
   "execution_count": 1,
   "id": "ef4fe1f4-8db4-4e3e-a452-1d9e772df5aa",
   "metadata": {},
   "outputs": [],
   "source": [
    "import os\n",
    "import openai\n",
    "import tiktoken\n",
    "\n",
    "\n",
    "import xml.etree.ElementTree as ET\n",
    "import networkx as nx\n",
    "import matplotlib.pyplot as plt\n",
    "\n",
    "\n",
    "import json\n",
    "import networkx as nx"
   ]
  },
  {
   "cell_type": "code",
   "execution_count": 3,
   "id": "1db539e4-deeb-4cad-a975-ac30aa21bcca",
   "metadata": {},
   "outputs": [],
   "source": [
    "import os\n",
    "import openai\n",
    "\n",
    "\n",
    "from dotenv import load_dotenv, find_dotenv\n",
    "_ = load_dotenv(find_dotenv()) # read local .env file\n",
    "\n",
    "openai.api_key  = os.environ['OPENAI_API_KEY']"
   ]
  },
  {
   "cell_type": "code",
   "execution_count": 13,
   "id": "cb2c7f39-47f6-484d-928d-ffbd88366bad",
   "metadata": {},
   "outputs": [],
   "source": [
    "# import os\n",
    "# from openai import OpenAI\n",
    "\n",
    "# client = OpenAI(\n",
    "#     # This is the default and can be omitted\n",
    "#     api_key=os.environ.get(\"OPENAI_API_KEY\"),\n",
    "# )"
   ]
  },
  {
   "cell_type": "code",
   "execution_count": 6,
   "id": "34f5d6db-a222-4eed-8e09-4f6e361f64aa",
   "metadata": {},
   "outputs": [],
   "source": [
    "# print(client)"
   ]
  },
  {
   "cell_type": "code",
   "execution_count": 7,
   "id": "597c96bf-3846-45ce-9399-78cf94d7ec2e",
   "metadata": {},
   "outputs": [],
   "source": [
    "# Path to the roles list\n",
    "path_to_id = [\"protocolSection\",\"identificationModule\",\"nctId\"]\n",
    "path_to_interventions = [\"protocolSection\", \"armsInterventionsModule\", \"interventions\"]\n",
    "path_to_description = [\"protocolSection\",\"descriptionModule\",\"briefSummary\"]"
   ]
  },
  {
   "cell_type": "code",
   "execution_count": 8,
   "id": "c18de398-efe6-4a89-ac7c-b65fd2b5a1fe",
   "metadata": {},
   "outputs": [],
   "source": [
    "# Function to retrieve a value from a JSON structure based on a given path\n",
    "def get_value_from_path(data, path):\n",
    "    \"\"\"\n",
    "    Retrieve the value from a JSON structure based on a given path.\n",
    "\n",
    "    :param data: The JSON data (could be a dictionary, list, or basic data type).\n",
    "    :param path: A list of keys/indices that define the path to the desired value.\n",
    "    :return: The value at the specified path, or None if the path doesn't exist.\n",
    "    \"\"\"\n",
    "    current = data\n",
    "\n",
    "    try:\n",
    "        for key in path:\n",
    "            if isinstance(current, dict):\n",
    "                current = current[key]\n",
    "            elif isinstance(current, list) and isinstance(key, int):\n",
    "                current = current[key]\n",
    "            else:\n",
    "                return None  # Path leads to an unexpected type\n",
    "        return current\n",
    "    except (KeyError, IndexError):\n",
    "        return None  # If the key/index does not exist"
   ]
  },
  {
   "cell_type": "code",
   "execution_count": 9,
   "id": "abd2c9de-2222-47bf-82c3-8d4464cbb09a",
   "metadata": {},
   "outputs": [],
   "source": [
    "import os\n",
    "import json\n",
    "\n",
    "# Define the directory containing the JSON files\n",
    "# directory_path = \"../CancerDrugCombo/datasets/drug-comb-nct/\"\n",
    "directory_path = \"../datasets/drug-comb-nct/\"\n",
    "\n",
    "count = 0\n",
    "\n",
    "nct_drug_combos = {}\n",
    "\n",
    "# Iterate over each file in the directory\n",
    "for filename in os.listdir(directory_path):\n",
    "    # Check if the file is a JSON file\n",
    "    if filename.endswith(\".json\"):\n",
    "        file_path = os.path.join(directory_path, filename)  # Get the full path to the file\n",
    "        \n",
    "        # Open and read the JSON file\n",
    "        with open(file_path, 'r') as json_file:\n",
    "            # Parse the JSON content\n",
    "            data = json.load(json_file)\n",
    "            \n",
    "            # Get the roles list\n",
    "            desc = get_value_from_path(data, path_to_description)\n",
    "            nctid = get_value_from_path(data, path_to_id)\n",
    "            \n",
    "            # print(nctid, desc)\n",
    "            \n",
    "            nct_drug_combos[nctid] = desc"
   ]
  },
  {
   "cell_type": "code",
   "execution_count": 10,
   "id": "bc0afa9f-2c1f-4ed2-a38c-f27d9e94a665",
   "metadata": {},
   "outputs": [
    {
     "data": {
      "text/plain": [
       "2496"
      ]
     },
     "execution_count": 10,
     "metadata": {},
     "output_type": "execute_result"
    }
   ],
   "source": [
    "len(nct_drug_combos)"
   ]
  },
  {
   "cell_type": "code",
   "execution_count": 11,
   "id": "4939458d-e615-46ff-8d86-c28e05973aaa",
   "metadata": {},
   "outputs": [
    {
     "data": {
      "text/plain": [
       "'In order to prevent the high mortality due to an hypothetic pandemic caused by a newly emerging influenza A virus, antiviral drugs are seen as essential requirements for control of initial influenza outbreaks.Two antivirals are available for the treatment oseltamivir and zanamivir. Emergence of Oseltamivir resistance has been recently reported. . It appeared opportune to assess the efficacy and safety of biotherapy of neuraminidase inhibitors ,will be investigated by a randomized, placebo controlled, double blind study in France, during the next winter season . This study will be conducted in 300 centres of primary care with 900 adults with a virologically suspected influenza A infection. Individuals will be randomized to 1 of the 3 treatment groups: oseltamivir +zanamivir, or oseltamivir+placebo or placebo +zanamivir.The primary judgment criteria will be the proportion of patients with negative RT PCR negative in nasal secretions at Day 2.'"
      ]
     },
     "execution_count": 11,
     "metadata": {},
     "output_type": "execute_result"
    }
   ],
   "source": [
    "list(nct_drug_combos.values())[0]"
   ]
  },
  {
   "cell_type": "code",
   "execution_count": 12,
   "id": "e93b443f-b6fd-492e-a728-1112d19bfdc4",
   "metadata": {},
   "outputs": [],
   "source": [
    "from dotenv import load_dotenv, find_dotenv\n",
    "_ = load_dotenv(find_dotenv()) # read local .env file\n",
    "\n",
    "openai.api_key  = os.environ['OPENAI_API_KEY']\n",
    "\n",
    "# Upload a file\n",
    "from openai import OpenAI\n",
    "client = OpenAI()"
   ]
  },
  {
   "cell_type": "code",
   "execution_count": 14,
   "id": "0caa805b-4854-441b-b41e-5787b2028d20",
   "metadata": {},
   "outputs": [],
   "source": [
    "# xml_pattern = \"\"\"\n",
    "# <?xml version=\"1.0\" encoding=\"UTF-8\"?>\n",
    "# <network>\n",
    "#     <nodes>\n",
    "#         <node label=\"tocilizumab (RoActemra)\"/>\n",
    "#         <node label=\"methotrexate\"/>\n",
    "#         <node label=\"DMARDs\"/>\n",
    "#     </nodes>\n",
    "#     <edges>\n",
    "#         <edge source=\"tocilizumab (RoActemra)\" target=\"methotrexate\" label=\"combination\"/>\n",
    "#         <edge source=\"tocilizumab (RoActemra)\" target=\"DMARDs\" label=\"combination\"/>\n",
    "#         <edge source=\"tocilizumab (RoActemra)\" target=\"methotrexate\" label=\"combination\"/>\n",
    "#         <edge source=\"tocilizumab (RoActemra)\" target=\"DMARDs\" label=\"combination\"/>\n",
    "#     </edges>\n",
    "# </network>\n",
    "# \"\"\""
   ]
  },
  {
   "cell_type": "code",
   "execution_count": 23,
   "id": "07fb6f75-a7ff-4755-b6fa-f0196ef69db0",
   "metadata": {},
   "outputs": [],
   "source": []
  },
  {
   "cell_type": "code",
   "execution_count": 15,
   "id": "b1b4b14d-9523-4bad-a124-d16014a37325",
   "metadata": {},
   "outputs": [],
   "source": [
    "shot_1 = \"\"\"is to compare the safety and pharmacokinetics of <CKD-330> (fixed-dose [combination] of <Candesartan> 16 mg and <Amlodipine> 5 mg)\"\"\"\n",
    "shot_2 = \"\"\" <oseltamivir> [+] <zanamivir>\"\"\",\n",
    "shot_3 = \"\"\" to predict the efficacy and safety of <colistin-rifampin> [combination] and colistin monotherapy in extensively drug-resistant acinetobacter baumannii\"\"\",\n",
    "shot_4 = \"\"\"versus <docetaxel> [in combination with] either <gemcitabine> or <vinorelbine> or in [combination] with <capecitabine>.\"\"\",\n",
    "shot_5 = \"\"\"<GW642444M> and <GW685698X> will be simultaneously [co-administered] from a single device and compared with <GW642444M> [and] <GW685698X> administered separately in order to determine whether [co-administration] affects the safety\"\"\",\n",
    "shot_6 = \"\"\"fixed [combination] product <QVA149> versus the component products <QAB149> and <NVA237>, [administered concurrently] \"\"\",\n",
    "shot_7 = \"\"\"The purpose of this study is to find out whether or not [the addition of] <hydroxyurea> to <didanosine (ddI)> and other anti-HIV medications\"\"\"\n",
    "\n",
    "pe_shots = [\n",
    "    shot_1,\n",
    "    shot_2,\n",
    "    shot_3,\n",
    "    shot_4, \n",
    "    shot_5,\n",
    "    shot_6,\n",
    "    shot_7\n",
    "]"
   ]
  },
  {
   "cell_type": "code",
   "execution_count": 27,
   "id": "d25fb548-57c8-4e39-8f75-72affd8420b7",
   "metadata": {},
   "outputs": [],
   "source": [
    "comb_ex1 = \"tocilizumab (RoActemra)|methotrexate\"\n",
    "comb_ex2 = \"tocilizumab (RoActemra)|DMARDs\""
   ]
  },
  {
   "cell_type": "code",
   "execution_count": 40,
   "id": "ae94e78a-018f-4675-a537-7ea376de7ad4",
   "metadata": {},
   "outputs": [
    {
     "name": "stdout",
     "output_type": "stream",
     "text": [
      "Current NCT:  NCT01612741\n",
      "Current NCT:  NCT00006208\n",
      "Current NCT:  NCT00191438\n",
      "Current NCT:  NCT04080895\n",
      "Current NCT:  NCT01618214\n",
      "Current NCT:  NCT00016276\n",
      "Current NCT:  NCT00050908\n",
      "Current NCT:  NCT05066841\n",
      "Current NCT:  NCT03875508\n",
      "Current NCT:  NCT05259696\n",
      "Current NCT:  NCT00473616\n"
     ]
    }
   ],
   "source": [
    "count = 0\n",
    "file_name = '../outputs/pe_nct_combs_found/drug-combos-found-in-nct.txt'\n",
    "for nct_id, nct_desc in nct_drug_combos.items():\n",
    "\n",
    "    prompt = f\"\"\" \n",
    "\n",
    "        You are an specialized drug annotator, detect drugs if annotated/marked using < and > and relationship if it is annotated/maked using [ and ] \\\n",
    "\n",
    "        Your task is to learn from the following few shots:\n",
    "    \n",
    "            '''{shot_1}''' \\\n",
    "            '''{shot_2}''' \\\n",
    "            '''{shot_3}''' \\\n",
    "            '''{shot_4}''' \\\n",
    "            '''{shot_5}''' \\\n",
    "            '''{shot_6}''' \\\n",
    "            '''{shot_7}''' \\\n",
    "\n",
    "        Now you need to analyze the decription this clinical trials '''{nct_desc}''' to identify drugs and potential combinations \\\n",
    "    \n",
    "        Your response will combinations discovered in pipe-delimited format that follows the following examples:\n",
    "                        \n",
    "            '''{nct_id} | {comb_ex1}'''             \n",
    "            '''{nct_id} | {comb_ex2}''' \n",
    "            write each combination found in a single line and not other messages should be written\n",
    "    \"\"\"\n",
    "\n",
    "    response = client.chat.completions.create(\n",
    "        messages=[\n",
    "            {\n",
    "                \"role\": \"user\",\n",
    "                \"content\": prompt,\n",
    "            }\n",
    "        ],\n",
    "        model=\"gpt-3.5-turbo\",\n",
    "    )\n",
    "\n",
    "\n",
    "    # Extract the completed text correctly\n",
    "    combos_discovered = response.choices[0].message.content.strip()\n",
    "    if not combos_discovered.lower().startswith('no') and not combos_discovered.lower().startswith('n/a'):\n",
    "        count += 1\n",
    "        with open(file_name, 'a') as pipes_file:\n",
    "            pipes_file.write(combos_discovered)\n",
    "            pipes_file.write('\\n')\n",
    "        \n",
    "    if count % 200 == 0:\n",
    "        print(\"Current NCT: \", nct_id)"
   ]
  },
  {
   "cell_type": "code",
   "execution_count": null,
   "id": "58d98f56-925b-4d32-8ab3-158789e8f06a",
   "metadata": {},
   "outputs": [],
   "source": []
  },
  {
   "cell_type": "code",
   "execution_count": null,
   "id": "ab92e5e2-d44d-4494-bf86-082b6c758f6a",
   "metadata": {},
   "outputs": [],
   "source": []
  },
  {
   "cell_type": "code",
   "execution_count": null,
   "id": "95f3adc9-c6a7-4c34-bb6b-29006530fe31",
   "metadata": {},
   "outputs": [],
   "source": []
  },
  {
   "cell_type": "code",
   "execution_count": null,
   "id": "74566e98-7bdd-436a-bed9-c5b8e06c3d80",
   "metadata": {},
   "outputs": [],
   "source": []
  },
  {
   "cell_type": "code",
   "execution_count": null,
   "id": "6aac4feb-71ee-48dc-86db-9b7be4d1a986",
   "metadata": {},
   "outputs": [],
   "source": []
  },
  {
   "cell_type": "code",
   "execution_count": null,
   "id": "e3f22be1-86da-4191-a3b8-b28f13bfb83d",
   "metadata": {},
   "outputs": [],
   "source": []
  },
  {
   "cell_type": "code",
   "execution_count": null,
   "id": "1257a9b4-4611-42c1-801f-1895d6c53767",
   "metadata": {},
   "outputs": [],
   "source": []
  },
  {
   "cell_type": "code",
   "execution_count": null,
   "id": "ad679d5f-af52-4a6c-8ce6-e7171e0d56fd",
   "metadata": {},
   "outputs": [],
   "source": []
  },
  {
   "cell_type": "code",
   "execution_count": null,
   "id": "a3f610a3-3efd-4d2a-b63b-e557431c4a9c",
   "metadata": {},
   "outputs": [],
   "source": []
  },
  {
   "cell_type": "code",
   "execution_count": null,
   "id": "831be618-15eb-41f7-90b7-b512545e0ed7",
   "metadata": {},
   "outputs": [],
   "source": []
  },
  {
   "cell_type": "code",
   "execution_count": null,
   "id": "59852622-d802-439f-be3a-3d6ab6a0847e",
   "metadata": {},
   "outputs": [],
   "source": []
  },
  {
   "cell_type": "code",
   "execution_count": null,
   "id": "a26ba239-a1d8-4e4c-9c2d-5dce469e29bd",
   "metadata": {},
   "outputs": [],
   "source": []
  },
  {
   "cell_type": "code",
   "execution_count": null,
   "id": "616e0809-09d2-48f9-b10d-88191ca89520",
   "metadata": {},
   "outputs": [],
   "source": []
  },
  {
   "cell_type": "code",
   "execution_count": null,
   "id": "1ee8532d-589d-4288-af42-2a37fd6c6a3d",
   "metadata": {},
   "outputs": [],
   "source": []
  },
  {
   "cell_type": "code",
   "execution_count": null,
   "id": "ea7c1980-b1f4-4d33-b608-01a387b456dc",
   "metadata": {},
   "outputs": [],
   "source": []
  },
  {
   "cell_type": "code",
   "execution_count": null,
   "id": "c2a59456-5f21-485c-adb6-c7da73767ded",
   "metadata": {},
   "outputs": [],
   "source": []
  },
  {
   "cell_type": "code",
   "execution_count": null,
   "id": "de2c4b32-6fdf-4c1e-b901-2721ed50fa9e",
   "metadata": {},
   "outputs": [],
   "source": []
  },
  {
   "cell_type": "code",
   "execution_count": null,
   "id": "198bf33e-4dc7-4111-9341-89e8644b6824",
   "metadata": {},
   "outputs": [],
   "source": []
  },
  {
   "cell_type": "code",
   "execution_count": null,
   "id": "07ac47b5-6323-4ace-bc42-2d12cf1b242b",
   "metadata": {},
   "outputs": [],
   "source": []
  },
  {
   "cell_type": "code",
   "execution_count": null,
   "id": "0c6f17a9-1273-44fd-9575-518865c2a4e9",
   "metadata": {},
   "outputs": [],
   "source": []
  },
  {
   "cell_type": "code",
   "execution_count": null,
   "id": "a5cd066a-049f-4d09-be1c-6bf6c27343e8",
   "metadata": {},
   "outputs": [],
   "source": []
  },
  {
   "cell_type": "code",
   "execution_count": null,
   "id": "2c98ca77-f439-4372-b273-c2e36c624643",
   "metadata": {},
   "outputs": [],
   "source": []
  },
  {
   "cell_type": "code",
   "execution_count": null,
   "id": "cf8e17da-8a8d-463a-9b30-fa9f0384febf",
   "metadata": {},
   "outputs": [],
   "source": []
  },
  {
   "cell_type": "code",
   "execution_count": null,
   "id": "196a32e0-35d1-411d-93b3-097a4a8a8b0e",
   "metadata": {},
   "outputs": [],
   "source": []
  },
  {
   "cell_type": "code",
   "execution_count": null,
   "id": "2d8c3e9a-622b-4469-a043-eafb2a9e3dc0",
   "metadata": {},
   "outputs": [],
   "source": []
  },
  {
   "cell_type": "code",
   "execution_count": null,
   "id": "f21420da-c5eb-4e83-8a0a-6380a4ba6012",
   "metadata": {},
   "outputs": [],
   "source": []
  },
  {
   "cell_type": "code",
   "execution_count": null,
   "id": "b19cb7b3-b3e7-408a-b60c-b99a6e1d5b18",
   "metadata": {},
   "outputs": [],
   "source": []
  },
  {
   "cell_type": "code",
   "execution_count": null,
   "id": "ef7fbf4f-14d6-41a3-bbe3-8252fd73dd6e",
   "metadata": {},
   "outputs": [],
   "source": []
  },
  {
   "cell_type": "code",
   "execution_count": null,
   "id": "222522ed-d9c7-4004-9462-bbeeb0883114",
   "metadata": {},
   "outputs": [],
   "source": []
  },
  {
   "cell_type": "code",
   "execution_count": null,
   "id": "88aafd04-8269-4db8-97d4-e2eff9c0efd4",
   "metadata": {},
   "outputs": [],
   "source": []
  },
  {
   "cell_type": "code",
   "execution_count": null,
   "id": "102a3e5b-67e5-4d81-a4c7-cd7e68683453",
   "metadata": {},
   "outputs": [],
   "source": []
  },
  {
   "cell_type": "code",
   "execution_count": null,
   "id": "ce6bc4cf-8044-4365-be55-34f23838d31a",
   "metadata": {},
   "outputs": [],
   "source": [
    "# # Get a response from the chat-based model\n",
    "# xml_response = chat_with_gpt(prompt)"
   ]
  },
  {
   "cell_type": "code",
   "execution_count": null,
   "id": "03f90d7d-badc-4824-889e-cd514625032e",
   "metadata": {},
   "outputs": [],
   "source": [
    "count = 2496\n",
    "\n",
    "\n",
    "\n",
    "for marked_sent in list(nct_drug_combos.values())[2496:]:\n",
    "\n",
    "\n",
    "    \n",
    "    \"\"\"    \n",
    "    \n",
    "    \n",
    "    # Get a response from the chat-based model\n",
    "    xml_response = chat_with_gpt(prompt)\n",
    "    \n",
    "    # Re-parse the XML data\n",
    "    try:\n",
    "        root = ET.fromstring(xml_response)  # Ensure XML data is well-formed\n",
    "    except ET.ParseError as e:\n",
    "        print(xml_response)\n",
    "        print(\"XML Parsing Error:\", e)\n",
    "    \n",
    "    # Add nodes to the graph\n",
    "    nodes = root.find(\"Nodes\")\n",
    "    for node in nodes:\n",
    "        node_name = node.get(\"name\")\n",
    "        xmlG.add_node(node_name)\n",
    "\n",
    "    # Add links to the graph\n",
    "    links = root.find(\"Links\")\n",
    "    for link in links:\n",
    "        source = link.get(\"source\")\n",
    "        target = link.get(\"target\")\n",
    "        relationship = link.get(\"relationship\")\n",
    "        xmlG.add_edge(source, target, relationship=relationship)\n",
    "    \n",
    "    count +=1 \n",
    "    print(\"Current count: \", count)\n",
    "    if count % 100 == 0:\n",
    "        \n",
    "        print(\"Current network: \", xmlG)\n",
    "        print(\"---------------------\")    "
   ]
  },
  {
   "cell_type": "code",
   "execution_count": null,
   "id": "7d4f18e2-0904-49dd-a92d-45855e49f8bd",
   "metadata": {},
   "outputs": [],
   "source": [
    "count = 2496\n",
    "\n",
    "\n",
    "for nct_desc in list(nct_drug_combos.values())[2496:]:\n",
    "\n",
    "prompt = f\"\"\" using the pattern {xml_pattern} \\\n",
    "\n",
    "For an output example to be produced in XML format \\\n",
    "\n",
    "What the mighty and pwerful chatgpt do if I am summoned \n",
    "it to identify only drugs from the following text  {nct_desc} just prompt-engineering?  \\\n",
    "\n",
    "Make them output as a network of nodes and edges \"\"\"    \n",
    "\n",
    "\n",
    "# Get a response from the chat-based model\n",
    "xml_response = chat_with_gpt(prompt)\n",
    "    \n",
    "    # Re-parse the XML data\n",
    "    try:\n",
    "        root = ET.fromstring(xml_response)  # Ensure XML data is well-formed\n",
    "    except ET.ParseError as e:\n",
    "        print(xml_response)\n",
    "        print(\"XML Parsing Error:\", e)\n",
    "    \n",
    "    # Add nodes to the graph\n",
    "    nodes = root.find(\"Nodes\")\n",
    "    for node in nodes:\n",
    "        node_name = node.get(\"name\")\n",
    "        xmlG.add_node(node_name)\n",
    "\n",
    "    # Add links to the graph\n",
    "    links = root.find(\"Links\")\n",
    "    for link in links:\n",
    "        source = link.get(\"source\")\n",
    "        target = link.get(\"target\")\n",
    "        relationship = link.get(\"relationship\")\n",
    "        xmlG.add_edge(source, target, relationship=relationship)\n",
    "    \n",
    "    count +=1 \n",
    "    print(\"Current count: \", count)\n",
    "    if count % 100 == 0:\n",
    "        \n",
    "        print(\"Current network: \", xmlG)\n",
    "        print(\"---------------------\")    "
   ]
  },
  {
   "cell_type": "code",
   "execution_count": null,
   "id": "62d0070c-0a07-4501-9a69-d86b52574729",
   "metadata": {},
   "outputs": [],
   "source": [
    "print(xmlG)"
   ]
  },
  {
   "cell_type": "code",
   "execution_count": null,
   "id": "d0367389-50a0-4138-882a-02693c86ce3b",
   "metadata": {},
   "outputs": [],
   "source": [
    "import pickle\n",
    "\n",
    "# Save the graph to a pickle file\n",
    "pickle_file_path = \"../datasets/drug_combo_graph.pkl\"\n",
    "with open(pickle_file_path, \"wb\") as pickle_file:\n",
    "    pickle.dump(xmlG, pickle_file)\n",
    "\n",
    "print(f\"Graph has been saved to {pickle_file_path}\")"
   ]
  },
  {
   "cell_type": "code",
   "execution_count": null,
   "id": "6a327c4b-4b16-4292-96cb-29281a8da82c",
   "metadata": {},
   "outputs": [],
   "source": [
    "import pickle"
   ]
  },
  {
   "cell_type": "code",
   "execution_count": null,
   "id": "9f4d4f44-cf8b-4ab6-9cea-cdde9ee30a6d",
   "metadata": {},
   "outputs": [],
   "source": [
    "# Load the graph from the pickle file\n",
    "with open(\"../datasets/drug_combo_graph.pkl\", \"rb\") as pickle_file:\n",
    "    loaded_graph = pickle.load(pickle_file)"
   ]
  },
  {
   "cell_type": "code",
   "execution_count": null,
   "id": "1dde98b1-5e93-4db9-9657-1c8dd203cbe6",
   "metadata": {},
   "outputs": [],
   "source": [
    "print(loaded_graph)"
   ]
  },
  {
   "cell_type": "code",
   "execution_count": null,
   "id": "ae7f0299-357e-4657-91cf-488012e98923",
   "metadata": {},
   "outputs": [],
   "source": []
  },
  {
   "cell_type": "code",
   "execution_count": null,
   "id": "c1625035-2c8d-4eca-bed3-b959cdd12396",
   "metadata": {},
   "outputs": [],
   "source": [
    "# Graph with 3629 nodes and 4263 edges, combination therapy Relationships:  2873\n",
    "# Other Relations:  1390"
   ]
  },
  {
   "cell_type": "code",
   "execution_count": null,
   "id": "5cad5b29-70ea-4133-b80b-70af212cedfe",
   "metadata": {},
   "outputs": [],
   "source": [
    "# import networkx as nx\n",
    "\n",
    "# # Calculate degree centrality\n",
    "# degree_centrality = nx.degree_centrality(loaded_graph)\n",
    "# # Sort nodes by degree centrality in descending order\n",
    "# sorted_degree_centrality = sorted(degree_centrality.items(), key=lambda x: x[1], reverse=True)\n",
    "\n",
    "# # Get the top 20 drugs by degree centrality\n",
    "# top_50_drugs = [node for node, centrality in sorted_degree_centrality[:50]]\n",
    "\n",
    "# print(\"Top 20 Drugs by Degree Centrality:\", top_50_drugs)\n"
   ]
  },
  {
   "cell_type": "code",
   "execution_count": null,
   "id": "9e0b2fee-c145-4b3d-923b-b5adc172d1f4",
   "metadata": {},
   "outputs": [],
   "source": [
    "# copied_loaded_graph = loaded_graph"
   ]
  },
  {
   "cell_type": "code",
   "execution_count": null,
   "id": "68e13a61-269f-41ae-b637-3a6609d68b81",
   "metadata": {},
   "outputs": [],
   "source": [
    "# ### parse CHEBI DRUGS\n",
    "# def load_chebi_drugs(chebi_file):\n",
    "    \n",
    "#     drugs_dict = {}\n",
    "    \n",
    "#     handler = open(chebi_file)\n",
    "#     lines = handler.readlines()\n",
    "    \n",
    "#     drid = ''\n",
    "#     dname = ''\n",
    "#     for line in lines[17:]:\n",
    "#         if not line.startswith('[Term]'): \n",
    "#             if line.startswith('id: '):\n",
    "#                 drid = line.rstrip()[3:].strip()\n",
    "                \n",
    "#             elif line.startswith('name: '):\n",
    "#                 dname = line.rstrip().strip('\\n')[6:]  \n",
    "#                 drugs_dict[drid] = dname.lower()          \n",
    "#     return drugs_dict "
   ]
  },
  {
   "cell_type": "code",
   "execution_count": null,
   "id": "c5636d44-eaea-4b58-86d8-55f33341a3d1",
   "metadata": {},
   "outputs": [],
   "source": [
    "# chebi_file = '../onto/chebi.obo'\n",
    "\n",
    "# chem_entities = load_chebi_drugs(chebi_file)"
   ]
  },
  {
   "cell_type": "code",
   "execution_count": null,
   "id": "489b1de2-5f5d-4ac3-a6c9-6e48f07c6f82",
   "metadata": {},
   "outputs": [],
   "source": [
    "# # load the drugs from the graph of combinations\n",
    "# chebi_drugs = list(chem_entities.values())"
   ]
  },
  {
   "cell_type": "code",
   "execution_count": null,
   "id": "d2cf54f6-4014-4219-8df4-a2bf6bb984a3",
   "metadata": {},
   "outputs": [],
   "source": [
    "# chebi_drugs[:10]"
   ]
  },
  {
   "cell_type": "code",
   "execution_count": null,
   "id": "88316a5d-cf37-4ce7-a29d-6d9963f84cba",
   "metadata": {},
   "outputs": [],
   "source": [
    "# Now remove all nodes identified for removal\n",
    "# for node in nodes_to_remove:\n",
    "#     copied_loaded_graph.remove_node(node)\n",
    "\n",
    "# print(\"Nodes after removal:\", list(copied_loaded_graph.nodes()))"
   ]
  },
  {
   "cell_type": "code",
   "execution_count": null,
   "id": "0ac953ac-60f7-4c4a-a89c-e297247e9aa4",
   "metadata": {},
   "outputs": [],
   "source": [
    "print(loaded_graph)"
   ]
  },
  {
   "cell_type": "code",
   "execution_count": null,
   "id": "f693f4cd-3af5-452b-b4ab-953d9061912e",
   "metadata": {},
   "outputs": [],
   "source": [
    "combo_rel = 0\n",
    "else_rel = 0\n",
    "for edge in loaded_graph.edges(data=True):\n",
    "    if edge[2]['relationship'] == 'combination therapy':\n",
    "        combo_rel += 1\n",
    "    else:\n",
    "        else_rel += 1\n",
    "print('combo_rel: ', combo_rel)\n",
    "print('else_rel: ', else_rel)"
   ]
  },
  {
   "cell_type": "code",
   "execution_count": null,
   "id": "15ed6a70-c574-400a-a485-815a2278a96f",
   "metadata": {},
   "outputs": [],
   "source": [
    "import openai\n",
    "\n",
    "# Define the prompt with the masked sentences\n",
    "prompt = \"\"\"\n",
    "The cat chased the mouse.\n",
    "The student studied for the exam.\n",
    "The chef cooked the delicious meal.\n",
    "The gardener watered the plants.\n",
    "The firefighter extinguished the fire.\n",
    "The parent hugged the child.\n",
    "The engineer built the bridge.\n",
    "\n",
    "If a cat \"chased\" a mouse, and engineer \"built\" a bridge,\n",
    "\n",
    "and\n",
    "\n",
    "the parent \"hugged a child\"\n",
    "\n",
    "Unmask the XXX with proper verb from the following sentences:\n",
    "\n",
    "authors XXX novel\n",
    "scientist XXX cure\n",
    "\"\"\"\n",
    "\n",
    "# Generate completions using GPT-3.5 chat model\n",
    "response = openai.ChatCompletion.create(\n",
    "    model=\"text-davinci-003\",  # Choose an available model\n",
    "    messages=[\n",
    "        {\"role\": \"system\", \"content\": \"You are a helpful assistant who can discover relationships.\"},\n",
    "        {\"role\": \"user\", \"content\": prompt}\n",
    "    ]\n",
    ")\n",
    "\n",
    "# Extract the completed text\n",
    "completed_text = response.choices[0].message[\"content\"].strip()\n",
    "\n",
    "print(completed_text)\n"
   ]
  },
  {
   "cell_type": "code",
   "execution_count": null,
   "id": "f1a2060f-cdc3-4eaa-ab8b-834746779771",
   "metadata": {},
   "outputs": [],
   "source": []
  }
 ],
 "metadata": {
  "kernelspec": {
   "display_name": "Python 3 (ipykernel)",
   "language": "python",
   "name": "python3"
  },
  "language_info": {
   "codemirror_mode": {
    "name": "ipython",
    "version": 3
   },
   "file_extension": ".py",
   "mimetype": "text/x-python",
   "name": "python",
   "nbconvert_exporter": "python",
   "pygments_lexer": "ipython3",
   "version": "3.9.12"
  }
 },
 "nbformat": 4,
 "nbformat_minor": 5
}
