{
 "cells": [
  {
   "cell_type": "code",
   "execution_count": 43,
   "id": "bc1e103d-b854-40ec-bc75-974d8c0c8bb5",
   "metadata": {},
   "outputs": [],
   "source": [
    "import pickle \n",
    "import networkx as nx\n",
    "\n"
   ]
  },
  {
   "cell_type": "code",
   "execution_count": 44,
   "id": "a5cbb3ab-d732-454f-b551-e8d00a4df8b8",
   "metadata": {},
   "outputs": [],
   "source": [
    "def parse_data(file_path):\n",
    "    edges = []\n",
    "    file_handle = open(file_path, 'r')\n",
    "    for line in file_handle.readlines():\n",
    "        line = line.strip()\n",
    "        if line.startswith('NCT'):\n",
    "            parts = line.split('|')\n",
    "            nct_id = parts[0].strip()\n",
    "            drugs = [drug.strip() for drug in parts[1:]]\n",
    "            for i in range(len(drugs)):\n",
    "                for j in range(i+1, len(drugs)):\n",
    "                    edges.append((drugs[i].lower(), drugs[j].lower(), nct_id))\n",
    "    return edges"
   ]
  },
  {
   "cell_type": "code",
   "execution_count": 45,
   "id": "259bcd20-bbad-4667-b783-c9d08f55ea30",
   "metadata": {},
   "outputs": [],
   "source": [
    "def create_network(edges):\n",
    "    G = nx.Graph()\n",
    "    for drug1, drug2, nct_id in edges:\n",
    "        G.add_edge(drug1, drug2, label=nct_id)\n",
    "    return G"
   ]
  },
  {
   "cell_type": "code",
   "execution_count": null,
   "id": "309d9e33-cc5b-4fa2-b543-7a326529a892",
   "metadata": {},
   "outputs": [],
   "source": []
  },
  {
   "cell_type": "code",
   "execution_count": 49,
   "id": "172aac85-4a64-4320-837a-5093d9221f77",
   "metadata": {},
   "outputs": [],
   "source": [
    "file_path = '../outputs/pe_nct_combs_found/drug-combos-found-in-nct.txt'  # Replace with your file path\n",
    "edges = parse_data(file_path)\n",
    "ChatPT_Combo_Graph = create_network(edges)\n",
    "\n",
    "\n",
    "# print(ChatPT_Combo_Graph.nodes())\n"
   ]
  },
  {
   "cell_type": "code",
   "execution_count": 50,
   "id": "412f4021-bbf1-4d03-8ad0-de38c299ae68",
   "metadata": {},
   "outputs": [],
   "source": [
    "output_pickle_path = '../outputs/gpt-pe-combos-graph.pickle'  # Replace with your desired output file path\n",
    "\n",
    "nx.write_gpickle(ChatPT_Combo_Graph, output_pickle_path)\n",
    "\n"
   ]
  },
  {
   "cell_type": "code",
   "execution_count": null,
   "id": "7bda070f-8857-42e8-843d-14aa6cb3cb73",
   "metadata": {},
   "outputs": [],
   "source": []
  },
  {
   "cell_type": "code",
   "execution_count": null,
   "id": "892cd987-728f-497f-9c68-281149853a06",
   "metadata": {},
   "outputs": [],
   "source": []
  }
 ],
 "metadata": {
  "kernelspec": {
   "display_name": "Python 3 (ipykernel)",
   "language": "python",
   "name": "python3"
  },
  "language_info": {
   "codemirror_mode": {
    "name": "ipython",
    "version": 3
   },
   "file_extension": ".py",
   "mimetype": "text/x-python",
   "name": "python",
   "nbconvert_exporter": "python",
   "pygments_lexer": "ipython3",
   "version": "3.9.12"
  }
 },
 "nbformat": 4,
 "nbformat_minor": 5
}
