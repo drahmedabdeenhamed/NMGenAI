{
 "cells": [
  {
   "cell_type": "code",
   "execution_count": 83,
   "id": "302d4930-7ac3-4d2b-8308-76f24d2e50f7",
   "metadata": {},
   "outputs": [],
   "source": [
    "import os\n",
    "import re\n",
    "import networkx as nx\n",
    "import xml.etree.ElementTree as ET"
   ]
  },
  {
   "cell_type": "code",
   "execution_count": 84,
   "id": "9b073baf-f7b4-4817-9f20-bb6fb44a36f5",
   "metadata": {},
   "outputs": [],
   "source": [
    "def clean_xml_content(file_path):\n",
    "    with open(file_path, 'r') as file:\n",
    "        content = file.read()\n",
    "        # Use regex to find the first closing tag of the root element and cut the content there\n",
    "        match = re.search(r'(</ClinicalTrial>)', content)\n",
    "        if match:\n",
    "            end = match.end()\n",
    "            content = content[:end]\n",
    "        return content"
   ]
  },
  {
   "cell_type": "code",
   "execution_count": 85,
   "id": "bd0c53b7-3d1d-4505-9342-3ed6ba2ad7ad",
   "metadata": {},
   "outputs": [],
   "source": [
    "def extract_combos_from_xml(file_path):\n",
    "    try:\n",
    "        content = clean_xml_content(file_path)\n",
    "        # print(content)\n",
    "        tree = ET.ElementTree(ET.fromstring(content))\n",
    "        root = tree.getroot()\n",
    "\n",
    "        combos = []\n",
    "        for combo in root.findall('.//Combo'):\n",
    "            drug1 = combo.get('drug1')\n",
    "            drug2 = combo.get('drug2')\n",
    "            combos.append((drug1, drug2))\n",
    "\n",
    "        return combos\n",
    "    except ET.ParseError as e:\n",
    "        # print(f\"Error parsing {file_path}: {e}\")\n",
    "        return []"
   ]
  },
  {
   "cell_type": "code",
   "execution_count": 109,
   "id": "bd2803ba-85c4-413f-bf15-8caca60b3cd2",
   "metadata": {},
   "outputs": [],
   "source": [
    "def build_graph_from_directory(directory):\n",
    "    \n",
    "    count  = 0\n",
    "    graph = nx.Graph()\n",
    "    drugs = []\n",
    "    for file_name in os.listdir(directory):\n",
    "        if file_name.startswith(\"NCT\") and file_name.endswith(\".xml\"):\n",
    "            nct_id = file_name.split('.')[0]  # Extract NCTXXX from file name\n",
    "            file_path = os.path.join(directory, file_name)\n",
    "            combos = extract_combos_from_xml(file_path)\n",
    "\n",
    "            for drug1, drug2 in combos:\n",
    "                if drug1 not in drugs and drug2 not in drugs:\n",
    "                    drugs.append(drug1)\n",
    "                    drugs.append(drug2)                    \n",
    "                    \n",
    "                    count += 1\n",
    "                    # if not graph.has_edge(drug1, drug2):\n",
    "                    graph.add_edge(drug1, drug2, label=nct_id)\n",
    "    print(set(drugs))\n",
    "    return graph"
   ]
  },
  {
   "cell_type": "code",
   "execution_count": 110,
   "id": "c85202ce-f4e6-4423-b89f-25f4c06518c2",
   "metadata": {},
   "outputs": [
    {
     "name": "stdout",
     "output_type": "stream",
     "text": [
      "{'Hydroxychloroquine', 'zinc sulfate', 'darunavir', 'hydroxychloroquine', 'Ritonavir', 'Zinc Sulfate', 'Darunavir', 'Zinc sulfate', 'Ivermectin', 'ivermectin'}\n"
     ]
    }
   ],
   "source": [
    "\n",
    "directory = \"../datasets/ft-discovered/well-formatted/\"  # Replace with your directory path\n",
    "# # print(len(directory))\n",
    "populated_graph = build_graph_from_directory(directory)"
   ]
  },
  {
   "cell_type": "code",
   "execution_count": 104,
   "id": "815b07c1-1605-462a-9da8-26efcbd1316e",
   "metadata": {},
   "outputs": [
    {
     "ename": "TypeError",
     "evalue": "'data' is an invalid keyword argument for print()",
     "output_type": "error",
     "traceback": [
      "\u001b[0;31m---------------------------------------------------------------------------\u001b[0m",
      "\u001b[0;31mTypeError\u001b[0m                                 Traceback (most recent call last)",
      "Input \u001b[0;32mIn [104]\u001b[0m, in \u001b[0;36m<cell line: 1>\u001b[0;34m()\u001b[0m\n\u001b[0;32m----> 1\u001b[0m \u001b[38;5;28;43mprint\u001b[39;49m\u001b[43m(\u001b[49m\u001b[43mpopulated_graph\u001b[49m\u001b[43m,\u001b[49m\u001b[43m \u001b[49m\u001b[43mdata\u001b[49m\u001b[38;5;241;43m=\u001b[39;49m\u001b[38;5;28;43;01mTrue\u001b[39;49;00m\u001b[43m)\u001b[49m\n",
      "\u001b[0;31mTypeError\u001b[0m: 'data' is an invalid keyword argument for print()"
     ]
    }
   ],
   "source": []
  },
  {
   "cell_type": "code",
   "execution_count": null,
   "id": "77235f5e-8fcc-4be8-be86-b94a5dae6f71",
   "metadata": {},
   "outputs": [],
   "source": []
  },
  {
   "cell_type": "code",
   "execution_count": null,
   "id": "55543249-e862-4a9f-8a82-161e19e34213",
   "metadata": {},
   "outputs": [],
   "source": []
  },
  {
   "cell_type": "code",
   "execution_count": null,
   "id": "0314abce-d519-4e32-92a7-1e8c079c91b8",
   "metadata": {},
   "outputs": [],
   "source": []
  },
  {
   "cell_type": "code",
   "execution_count": null,
   "id": "13c651cc-694e-477c-bf7e-0981e7d19ba4",
   "metadata": {},
   "outputs": [],
   "source": []
  }
 ],
 "metadata": {
  "kernelspec": {
   "display_name": "Python 3 (ipykernel)",
   "language": "python",
   "name": "python3"
  },
  "language_info": {
   "codemirror_mode": {
    "name": "ipython",
    "version": 3
   },
   "file_extension": ".py",
   "mimetype": "text/x-python",
   "name": "python",
   "nbconvert_exporter": "python",
   "pygments_lexer": "ipython3",
   "version": "3.9.12"
  }
 },
 "nbformat": 4,
 "nbformat_minor": 5
}
