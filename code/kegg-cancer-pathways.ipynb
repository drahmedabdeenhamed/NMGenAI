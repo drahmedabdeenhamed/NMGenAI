{
 "cells": [
  {
   "cell_type": "code",
   "execution_count": 2,
   "id": "1b2f39f5-7747-4f41-b18a-53c477702135",
   "metadata": {},
   "outputs": [],
   "source": [
    "import xml.etree.ElementTree as ET"
   ]
  },
  {
   "cell_type": "code",
   "execution_count": 3,
   "id": "9d4fe750-aa32-4250-ad7a-14ba062dafd8",
   "metadata": {},
   "outputs": [],
   "source": [
    "cancer_pathways = {}"
   ]
  },
  {
   "cell_type": "code",
   "execution_count": 7,
   "id": "fdc02d02-de00-4bbc-96fb-230f073a8997",
   "metadata": {},
   "outputs": [],
   "source": [
    "tree = ET.parse('../resources/kegg-hsa05224-cancer-pathways.xml')\n",
    "\n",
    "# Parse the XML data\n",
    "# root = ET.fromstring(tree)\n",
    "\n",
    "root = tree.getroot()\n",
    "\n",
    "# Now you can use the root element to find entries of type \"gene\"\n",
    "for entry in root.findall(\"entry\"):\n",
    "    if entry.get(\"type\") == \"gene\":\n",
    "        node_name = entry.get('name')\n",
    "        # cancer_pathways\n",
    "        graphics = entry.find(\"graphics\")\n",
    "        pathway = graphics.get(\"name\")\n",
    "        # print(path)\n",
    "        splits = pathway.lower().strip('...').split(',')\n",
    "        cancer_pathways[node_name] = splits\n",
    "    # print('------------')"
   ]
  },
  {
   "cell_type": "code",
   "execution_count": 8,
   "id": "14cb3126-b74d-4bae-b00b-707936c53c6d",
   "metadata": {},
   "outputs": [],
   "source": [
    "prot_list = []\n",
    "for node, path in cancer_pathways.items():\n",
    "    prot_list.extend(path)"
   ]
  },
  {
   "cell_type": "code",
   "execution_count": 9,
   "id": "b4784bbc-c676-4f64-9db7-972ca1da8c05",
   "metadata": {},
   "outputs": [
    {
     "data": {
      "text/plain": [
       "383"
      ]
     },
     "execution_count": 9,
     "metadata": {},
     "output_type": "execute_result"
    }
   ],
   "source": [
    "len(prot_list)"
   ]
  },
  {
   "cell_type": "code",
   "execution_count": 6,
   "id": "5d37a947-ca10-421b-8fe7-82023fc761d6",
   "metadata": {},
   "outputs": [],
   "source": [
    "# Example with full path\n",
    "# file_path = \"../resources/kegg-unique-cancer-proteins.txt\"\n",
    "# with open(file_path, \"w\") as file:\n",
    "#     for item in prot_list:\n",
    "#         file.write(item + \"\\n\")\n"
   ]
  },
  {
   "cell_type": "code",
   "execution_count": null,
   "id": "379e956e-2ec0-406e-b463-ac74b5c6b465",
   "metadata": {},
   "outputs": [],
   "source": []
  }
 ],
 "metadata": {
  "kernelspec": {
   "display_name": "Python 3 (ipykernel)",
   "language": "python",
   "name": "python3"
  },
  "language_info": {
   "codemirror_mode": {
    "name": "ipython",
    "version": 3
   },
   "file_extension": ".py",
   "mimetype": "text/x-python",
   "name": "python",
   "nbconvert_exporter": "python",
   "pygments_lexer": "ipython3",
   "version": "3.9.12"
  }
 },
 "nbformat": 4,
 "nbformat_minor": 5
}
